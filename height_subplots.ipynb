{
 "cells": [
  {
   "cell_type": "code",
   "execution_count": 18,
   "id": "fd913af2-cac7-4ba1-a8fa-8b1675d1a7e5",
   "metadata": {},
   "outputs": [],
   "source": [
    "%matplotlib inline\n",
    "import matplotlib.pyplot as plt\n",
    "import numpy as np\n",
    "import pandas as pd\n",
    "import os\n",
    "import glob\n",
    "import ipywidgets as widgets\n",
    "from IPython.display import display\n",
    "\n",
    "plt.rcParams['figure.figsize'] = (20, 16)\n",
    "\n",
    "def process_and_plot(poss_file, times_file, ax1, ax2, ax3, ax4, label, use_boundary_layer, show_bl_height):\n",
    "    # Load data\n",
    "    try:\n",
    "        poss = np.load(poss_file, allow_pickle=True)\n",
    "        times = np.load(times_file, allow_pickle=True)\n",
    "    except Exception as e:\n",
    "        print(f\"Error loading files: {str(e)}\")\n",
    "        return None, None\n",
    "\n",
    "    heights = poss[:, 2, :]\n",
    "    if use_boundary_layer:\n",
    "        bl_heights = poss[:, 3, :]\n",
    "    \n",
    "    # Convert times to datetime objects if they're not already\n",
    "    times = pd.to_datetime(times)\n",
    "    \n",
    "    # Calculate the most recent date\n",
    "    most_recent_date = times.max()\n",
    "    \n",
    "    # Calculate time difference from the most recent date in hours\n",
    "    time_diff_hours = (most_recent_date - times).total_seconds() / 3600\n",
    "    \n",
    "    # Check for NaNs\n",
    "    if use_boundary_layer:\n",
    "        valid_mask = ~np.isnan(heights) & ~np.isnan(bl_heights)\n",
    "    else:\n",
    "        valid_mask = ~np.isnan(heights)\n",
    "    print(f\"File: {label}\")\n",
    "    print(f\"Total data points: {heights.size}\")\n",
    "    print(f\"Valid data points: {np.sum(valid_mask)}\")\n",
    "    print(f\"NaN or invalid data points: {heights.size - np.sum(valid_mask)}\")\n",
    "    \n",
    "    # Calculate average heights for each time step\n",
    "    avg_particle_height = np.nanmean(heights, axis=0)\n",
    "    if use_boundary_layer:\n",
    "        avg_bl_height = np.nanmean(bl_heights, axis=0)\n",
    "    \n",
    "    # Std height\n",
    "    std_height = np.nanstd(heights, axis=0)\n",
    "    \n",
    "    # Calculate the difference if using boundary layer\n",
    "    if use_boundary_layer:\n",
    "        height_difference = avg_particle_height - avg_bl_height\n",
    "    \n",
    "    # Plot 1: Mean Height with Standard Deviation\n",
    "    ax1.plot(time_diff_hours, avg_particle_height, label=f'{label} Mean Height')\n",
    "    ax1.fill_between(time_diff_hours, avg_particle_height - std_height, avg_particle_height + std_height, alpha=0.3)\n",
    "    if use_boundary_layer and show_bl_height:\n",
    "        ax1.plot(time_diff_hours, avg_bl_height, linestyle='--', label=f'{label} Mean BL Height')\n",
    "    \n",
    "    # Plot 2: Average Particle Height (and Boundary Layer Height if used)\n",
    "    ax2.plot(time_diff_hours, avg_particle_height, label=f'{label} Particle Height')\n",
    "    if use_boundary_layer and show_bl_height:\n",
    "        ax2.plot(time_diff_hours, avg_bl_height, linestyle='--', label=f'{label} BL Height')\n",
    "    \n",
    "    # Plot 3: Height Difference (only if using boundary layer)\n",
    "    if use_boundary_layer:\n",
    "        ax3.plot(time_diff_hours, height_difference, label=label)\n",
    "    \n",
    "    # Plot 4: Particle Distribution over Time (only if using boundary layer)\n",
    "    if use_boundary_layer:\n",
    "        above_bl = np.sum(heights > bl_heights, axis=0)\n",
    "        below_bl = np.sum(heights <= bl_heights, axis=0)\n",
    "        ax4.plot(time_diff_hours, above_bl, label=f'{label} Above BL')\n",
    "        ax4.plot(time_diff_hours, below_bl, linestyle='--', label=f'{label} Below BL')\n",
    "    \n",
    "    return most_recent_date, time_diff_hours\n",
    "\n",
    "def set_x_axis(ax, most_recent_date, max_time_diff):\n",
    "    # This function remains the same as before\n",
    "    ...\n",
    "\n",
    "def plot_data(num_files, use_boundary_layer, show_bl_height):\n",
    "    # Create a figure with four subplots in a 2x2 grid\n",
    "    fig, ((ax1, ax2), (ax3, ax4)) = plt.subplots(nrows=2, ncols=2, figsize=(20, 16))\n",
    "    \n",
    "    # Get all .pkl files in the 'pkl_files' directory\n",
    "    pkl_dir = 'FLEXPART/pkl_files'\n",
    "    poss_files = glob.glob(os.path.join(pkl_dir, '*_part_poss.pkl'))\n",
    "    times_files = glob.glob(os.path.join(pkl_dir, '*_part_times.pkl'))\n",
    "    \n",
    "    # Sort the files to ensure matching pairs\n",
    "    poss_files.sort()\n",
    "    times_files.sort()\n",
    "    \n",
    "    print(f\"Found {len(poss_files)} poss files and {len(times_files)} times files\")\n",
    "    \n",
    "    # Process each pair of files\n",
    "    max_time_diff = 0\n",
    "    most_recent_date = None\n",
    "    if len(poss_files) == len(times_files) and len(poss_files) > 0:\n",
    "        for poss_file, times_file in zip(poss_files[:num_files], times_files[:num_files]):\n",
    "            label = os.path.basename(poss_file)[:6]  # Use the first 6 letters of the file name as label\n",
    "            print(f\"Processing files: {poss_file} and {times_file}\")\n",
    "            result = process_and_plot(poss_file, times_file, ax1, ax2, ax3, ax4, label, use_boundary_layer, show_bl_height)\n",
    "            if result[0] is not None:\n",
    "                most_recent_date, time_diff_hours = result\n",
    "                max_time_diff = max(max_time_diff, np.max(time_diff_hours))\n",
    "    else:\n",
    "        print(\"No matching pairs of files found.\")\n",
    "    \n",
    "    # Set titles and labels for each subplot\n",
    "    ax1.set_ylabel('Height')\n",
    "    ax1.set_title('Mean Height with Standard Deviation')\n",
    "    ax1.legend()\n",
    "    ax1.grid(True)\n",
    "    set_x_axis(ax1, most_recent_date, max_time_diff)\n",
    "    \n",
    "    ax2.set_ylabel('Height')\n",
    "    ax2.set_title('Average Particle Height' + (' and Boundary Layer Height' if (use_boundary_layer and show_bl_height) else ''))\n",
    "    ax2.legend()\n",
    "    ax2.grid(True)\n",
    "    set_x_axis(ax2, most_recent_date, max_time_diff)\n",
    "    \n",
    "    if use_boundary_layer:\n",
    "        ax3.axhline(y=0, color='green', linestyle='--', label='y=0')\n",
    "        ax3.set_ylabel('Height Difference')\n",
    "        ax3.set_title('Average Particle Height minus Average Boundary Layer Height')\n",
    "        ax3.legend()\n",
    "        ax3.grid(True)\n",
    "        set_x_axis(ax3, most_recent_date, max_time_diff)\n",
    "        \n",
    "        ax4.set_ylabel('Number of Particles')\n",
    "        ax4.set_title('Distribution of Particles Relative to Boundary Layer')\n",
    "        ax4.legend()\n",
    "        ax4.grid(True)\n",
    "        set_x_axis(ax4, most_recent_date, max_time_diff)\n",
    "    else:\n",
    "        fig.delaxes(ax3)\n",
    "        fig.delaxes(ax4)\n",
    "    \n",
    "    # Adjust layout and show plot\n",
    "    plt.tight_layout()\n",
    "    plt.show()\n",
    "    \n",
    "    if most_recent_date is None:\n",
    "        print(\"No data was processed. Check if the 'pkl_files' directory exists and contains the correct files.\")\n",
    "\n",
    "def get_file_count():\n",
    "    pkl_dir = 'FLEXPART/pkl_files'\n",
    "    poss_files = glob.glob(os.path.join(pkl_dir, '*_part_poss.pkl'))\n",
    "    times_files = glob.glob(os.path.join(pkl_dir, '*_part_times.pkl'))\n",
    "    return min(len(poss_files), len(times_files))"
   ]
  },
  {
   "cell_type": "code",
   "execution_count": 19,
   "id": "52d63c6c-dc97-4767-b7fc-caf763aea2f5",
   "metadata": {},
   "outputs": [
    {
     "data": {
      "application/vnd.jupyter.widget-view+json": {
       "model_id": "9d51cd4e30404b8daf4927b49cda02e0",
       "version_major": 2,
       "version_minor": 0
      },
      "text/plain": [
       "IntSlider(value=1, description='Number of files:', max=14, min=1)"
      ]
     },
     "metadata": {},
     "output_type": "display_data"
    },
    {
     "data": {
      "application/vnd.jupyter.widget-view+json": {
       "model_id": "62d57cf87bfe45bca4d5adb47e21cd3d",
       "version_major": 2,
       "version_minor": 0
      },
      "text/plain": [
       "Checkbox(value=True, description='Use Boundary Layer Data')"
      ]
     },
     "metadata": {},
     "output_type": "display_data"
    },
    {
     "data": {
      "application/vnd.jupyter.widget-view+json": {
       "model_id": "95db0f67b60e43aa95a50b8ab09ba7c1",
       "version_major": 2,
       "version_minor": 0
      },
      "text/plain": [
       "Checkbox(value=True, description='Show BL Height in Plots 1 & 2')"
      ]
     },
     "metadata": {},
     "output_type": "display_data"
    },
    {
     "data": {
      "application/vnd.jupyter.widget-view+json": {
       "model_id": "6d136b7446994c32b76d487326145e8c",
       "version_major": 2,
       "version_minor": 0
      },
      "text/plain": [
       "Button(description='Generate Plot', style=ButtonStyle())"
      ]
     },
     "metadata": {},
     "output_type": "display_data"
    }
   ],
   "source": [
    "# Get the number of files in the directory\n",
    "file_count = get_file_count()\n",
    "\n",
    "# Create widgets for user input\n",
    "num_files_widget = widgets.IntSlider(min=1, max=file_count, step=1, value=1, description='Number of files:')\n",
    "use_bl_widget = widgets.Checkbox(value=True, description='Use Boundary Layer Data')\n",
    "show_bl_height_widget = widgets.Checkbox(value=True, description='Show BL Height in Plots 1 & 2')\n",
    "\n",
    "# Display widgets\n",
    "display(num_files_widget, use_bl_widget, show_bl_height_widget)\n",
    "\n",
    "# Create a button to generate the plot\n",
    "plot_button = widgets.Button(description=\"Generate Plot\")\n",
    "display(plot_button)\n",
    "\n",
    "# Define what happens when the button is clicked\n",
    "def on_button_clicked(b):\n",
    "    plot_data(num_files_widget.value, use_bl_widget.value, show_bl_height_widget.value)\n",
    "\n",
    "plot_button.on_click(on_button_clicked)"
   ]
  }
 ],
 "metadata": {
  "kernelspec": {
   "display_name": "main",
   "language": "python",
   "name": "main"
  },
  "language_info": {
   "codemirror_mode": {
    "name": "ipython",
    "version": 3
   },
   "file_extension": ".py",
   "mimetype": "text/x-python",
   "name": "python",
   "nbconvert_exporter": "python",
   "pygments_lexer": "ipython3",
   "version": "3.11.9"
  }
 },
 "nbformat": 4,
 "nbformat_minor": 5
}
